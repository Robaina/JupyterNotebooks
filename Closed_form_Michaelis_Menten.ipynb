{
 "cells": [
  {
   "cell_type": "markdown",
   "metadata": {},
   "source": [
    "# A closed-form solution to the Michaelis-Menten equation"
   ]
  },
  {
   "cell_type": "markdown",
   "metadata": {},
   "source": [
    "Leonor Michaelis and Maud Menten proposed at the beginning of the XXth century a widely-used [enzyme kinetics](https://en.wikipedia.org/wiki/Michaelis%E2%80%93Menten_kinetics) to model the flux through a monosubstrate, single-step enzyme catalyzed reaction. enzyme kinetics for a monosubstrate, single-step reaction:\n",
    "\n",
    "$$S + E \\rightleftharpoons ES \\rightarrow E + P$$\n",
    "\n",
    "Under the quasi steady state assumption, _i.e._ when $d/dt(ES) = 0$, we arrive at the equation\n",
    "\n",
    "$$v = \\frac{v_{max} S}{K_M + S}$$\n",
    "\n",
    "with\n",
    "\n",
    "$$K_M = \\frac{k_{-1} + k_{cat}}{k_1}$$\n",
    "\n",
    "and\n",
    "\n",
    "$$v_{max} = E k_{cat}.$$\n",
    "\n",
    "Although, this equation is usually numerically integrated, a closed-form solution was proposed by <cite data-cite=\"6657738/T9S4TIAN\"></cite>:\n",
    "\n",
    "$$S(t) = K_M W \\left( \\frac{S_0}{K_M} \\exp{\\left( \\frac{S_0 - v_{max}t}{K_M} \\right)} \\right),$$\n",
    "\n",
    "where $W$ is [Lambert's W](https://en.wikipedia.org/wiki/Lambert_W_function) function. Equation (3), together with the identity:\n",
    "\n",
    "$$ES(t) = \\frac{E_0 S}{K_M + S} (1 - \\exp{(-(K_M + S)k_1 t)})$$\n",
    "\n",
    "and the conservation law\n",
    "\n",
    "$$E(t) + ES(t) = E_0$$\n",
    "\n",
    "allows us to obtain the solution to the dynamics of all the species in the chemical reaction. This closed-form solution should be used under conditions in agreement with the quasy steady state assumption, _i.e._ \n",
    "\n",
    "$$\\frac{E_0}{K_M + S_0} << 1$$.\n",
    "\n",
    "We will use the [lambert W](https://docs.scipy.org/doc/scipy-0.14.0/reference/generated/scipy.special.lambertw.html)\n",
    "function from the scipy library to solve equation (3)."
   ]
  },
  {
   "cell_type": "code",
   "execution_count": 1,
   "metadata": {},
   "outputs": [
    {
     "data": {
      "application/vnd.jupyter.widget-view+json": {
       "model_id": "c72ebe642da8426e8b65215507ca17d4",
       "version_major": 2,
       "version_minor": 0
      },
      "text/plain": [
       "interactive(children=(FloatSlider(value=0.7, description='$K_M$', max=50.0, min=0.1), FloatSlider(value=5.0, d…"
      ]
     },
     "metadata": {},
     "output_type": "display_data"
    }
   ],
   "source": [
    "from scipy.special import lambertw\n",
    "from matplotlib import pyplot as plt\n",
    "from ipywidgets import interact, widgets\n",
    "%matplotlib inline\n",
    "# Let's define our W function which outputs the first branch of Lambert W\n",
    "# and also only real part since the imaginery is always 0 for positive argument (the case)\n",
    "def W(z):\n",
    "    return np.real(lambertw(z, k=0))\n",
    "\n",
    "# Let's define some constants and parameters\n",
    "S_0 = 15 # mM\n",
    "E_0 = 0.5 # mM\n",
    "K_cat = 30 # s^-1\n",
    "v_max = K_cat * E_0\n",
    "k_1 = 5.5 # s^-1\n",
    "k_minus_1 = 0.01 # s^-1\n",
    "K_M = (k_minus_1 + K_cat) / k_1\n",
    "t_0, t_f, dt = 0, 5, 0.01\n",
    "\n",
    "def plot_func(K_M, K_cat, S_0, E_0, t_f):\n",
    "    # Here are the functions for all species as well as the flux\n",
    "    v_max = K_cat * E_0\n",
    "    S = lambda t : K_M * W(S_0 / K_M * np.exp(1 / K_M * (-v_max * t + S_0)))\n",
    "    ES = lambda t, S : (E_0 * S(t)) / (K_M + S(t)) * (1 - np.exp(-(K_M + S(t)) * k_1 * t))\n",
    "    E = lambda t, ES : E_0 - ES(t, S)\n",
    "    P = lambda t, S, ES : S_0 - S(t) - ES(t, S) \n",
    "    v = lambda t, S : (v_max * S(t)) / (K_M + S(t)) \n",
    "    T = np.arange(t_0, t_f, dt)\n",
    "\n",
    "    # Plot the figures!\n",
    "    plt.figure(figsize=(10, 12))\n",
    "    plt.subplot(211)\n",
    "    plt.plot(T, [P(t, S, ES) for t in T], label='P')\n",
    "    plt.plot(T, [S(t) for t in T], label='S')\n",
    "    plt.plot(T, [10/E_0 * E(t, ES) for t in T], label='E')\n",
    "    plt.plot(T, [10/E_0 * ES(t, S) for t in T], label='ES')\n",
    "    plt.ylabel('[X] (mM)', fontsize=18)\n",
    "    plt.xlabel('t (s)', fontsize=18)\n",
    "    plt.legend(loc='lower right')\n",
    "    \n",
    "    plt.subplot(212)\n",
    "    plt.plot(T, [100 * v(t, S) / v_max for t in T])\n",
    "    plt.ylabel('$f_{ES}$ (%)', fontsize=18)\n",
    "    plt.xlabel('t (s)', fontsize=18)\n",
    "\n",
    "interact(plot_func, \n",
    "         K_M=widgets.FloatSlider(min=0.1, max=50, step=0.1, value=0.7, description='$K_M$'),\n",
    "         K_cat=widgets.FloatSlider(min=0, max=50, step=1, value=5, description='$K_{cat}$'),\n",
    "         S_0=widgets.FloatSlider(min=0, max=50, step=1, value=15, description='$S_0$'),\n",
    "         E_0=widgets.FloatSlider(min=0.1, max=1, step=0.1, value=0.1, description='$E_0$'),\n",
    "         t_f=widgets.FloatSlider(min=1, max=50, step=1, value=50, description='$t_f$')\n",
    "        )\n",
    "plt.show()"
   ]
  },
  {
   "cell_type": "markdown",
   "metadata": {
    "variables": {
     "round(E_0/(K_M + E_0), 3)": "0.084",
     "round(v(0, S) / v_max, 3)": "<p><strong>NameError</strong>: name &#39;v&#39; is not defined</p>\n"
    }
   },
   "source": [
    "With the current parameter values we have\n",
    "\n",
    "$\\frac{E_0}{K_M + S_0} =$ {{round(E_0/(K_M + E_0), 3)}}. Also note that starts with a velocity which is {{round(v(0, S) / v_max, 3)}}% of the $v_{max}$."
   ]
  },
  {
   "cell_type": "markdown",
   "metadata": {},
   "source": [
    "## Sensitivity of fluxes to fluctuating substrate concentrations\n",
    "Enzymes get saturated by their substrates, meaning that all active sites of the enzyme can be occupied at the same time. In this scenario the enzyme is operating at full capacity, and hence, any further increase in substrate concentration won't affect the reaction flux. In Michaelis-Menten kinetics, an enzyme is saturated when the concentration of all its substrates is well above the $K_M$ value for each one of them. Now, previous studies have observed that many substrate concentrations in _E. coli_ are above their $K_M$s. Could it be that metabolic networks have evolved to sustain a saturated state for their enzymes? In this manner, the system would be practically insensitive to small fluctuations in metabolite concentrations, which poses an advantage from the control point of view. Since fluxes can then be regulated by controlling enzyme activity alone. As an example, we will plot the same system from above, but this time we explore how the flux varies with varying substrate concentrations which are below and well above the $K_M$ value."
   ]
  },
  {
   "cell_type": "code",
   "execution_count": 2,
   "metadata": {},
   "outputs": [
    {
     "data": {
      "application/vnd.jupyter.widget-view+json": {
       "model_id": "612f236a43ba4409b6c58c0da9b39a7c",
       "version_major": 2,
       "version_minor": 0
      },
      "text/plain": [
       "interactive(children=(FloatSlider(value=0.7, description='$K_M$', max=50.0, min=0.1), FloatSlider(value=10.0, …"
      ]
     },
     "metadata": {},
     "output_type": "display_data"
    }
   ],
   "source": [
    "def plot_func(K_M, S_mean, dE):\n",
    "    v_max = 30\n",
    "    t_f = 10\n",
    "    T = np.arange(0, t_f, 0.1)\n",
    "    max_e = dE * S_mean\n",
    "    S = S_mean + (max_e - -max_e) * np.random.rand(len(T)) + (-max_e)\n",
    "    v = lambda t, S : (v_max * S[t]) / (K_M + S[t]) \n",
    "\n",
    "    # Plot the figures!\n",
    "    plt.figure(figsize=(14, 12))\n",
    "    plt.subplot(211)\n",
    "    plt.plot(T, [S[i] for i in range(len(T))], label='S')\n",
    "    plt.hlines(K_M, xmin=0, xmax=t_f, colors='black', label='$K_M$')\n",
    "    plt.ylabel('[X] (mM)', fontsize=18)\n",
    "    plt.xlabel('t (s)', fontsize=18)\n",
    "    plt.legend(loc='lower right')\n",
    "    \n",
    "    plt.subplot(212)\n",
    "    plt.plot(T, [v(i, S) for i in range(len(T))], color='orange', label='v')\n",
    "    plt.ylabel('v ($\\mathrm{mM.s}^{-1}$)', fontsize=18)\n",
    "    plt.xlabel('t (s)', fontsize=18)\n",
    "\n",
    "interact(plot_func,\n",
    "         K_M=widgets.FloatSlider(min=0.1, max=50, step=0.1, value=0.7, description='$K_M$'),\n",
    "         S_mean=widgets.FloatSlider(min=0.1, max=50, step=0.1, value=10, description='$mean(S)$'),\n",
    "         dE=widgets.FloatSlider(min=0.1, max=1, step=0.1, value=0.1, description='$dE$')\n",
    "        )\n",
    "plt.show()"
   ]
  },
  {
   "cell_type": "code",
   "execution_count": 16,
   "metadata": {},
   "outputs": [
    {
     "data": {
      "application/vnd.jupyter.widget-view+json": {
       "model_id": "8480f8134e8a405d984305b338cadb30",
       "version_major": 2,
       "version_minor": 0
      },
      "text/plain": [
       "interactive(children=(FloatSlider(value=0.7, description='$K_M$', max=50.0, min=0.1), FloatSlider(value=0.1, d…"
      ]
     },
     "metadata": {},
     "output_type": "display_data"
    }
   ],
   "source": [
    "def plot_func(K_M, dE):\n",
    "    v_max = 30\n",
    "    t_f = 10\n",
    "    T = np.arange(0, t_f, 0.1)\n",
    "    S_means = np.linspace(0.1, 10, 100)\n",
    "    v = lambda t, S : (v_max * S[t]) / (K_M + S[t])\n",
    "\n",
    "    max_Amplitude = []\n",
    "    for S_mean in S_means:\n",
    "        max_e = dE * S_mean\n",
    "        S = S_mean + (max_e - -max_e) * np.random.rand(len(T)) + (-max_e)\n",
    "        V = [v(i, S) for i in range(len(T))]\n",
    "        max_Amplitude.append(max(V) - min(V))\n",
    "\n",
    "    # Plot the figures!\n",
    "    plt.figure(figsize=(14, 8))\n",
    "    plt.plot(S_means, max_Amplitude, color='black')\n",
    "    plt.vlines(K_M, ymin=min(max_Amplitude), ymax=max(max_Amplitude), \n",
    "               colors='blue', linestyle=\"--\")\n",
    "    plt.ylabel('$A_{max}$', fontsize=18)\n",
    "    plt.xlabel('mean [x]', fontsize=18)\n",
    "    plt.text(K_M, 0.2, '$K_M$', fontsize=18, color='blue')\n",
    "\n",
    "interact(plot_func,\n",
    "         K_M=widgets.FloatSlider(min=0.1, max=50, step=0.1, value=0.7, description='$K_M$'),\n",
    "         dE=widgets.FloatSlider(min=0.1, max=1, step=0.1, value=0.1, description='$dE$')\n",
    "        )\n",
    "plt.show()"
   ]
  },
  {
   "cell_type": "markdown",
   "metadata": {},
   "source": [
    "## References\n",
    "<div class=\"cite2c-biblio\"></div>"
   ]
  }
 ],
 "metadata": {
  "cite2c": {
   "citations": {
    "6657738/GNRUMI3N": {
     "URL": "https://www.sciencedirect.com/science/article/pii/S0022519397904252",
     "accessed": {
      "day": 20,
      "month": 3,
      "year": 2019
     },
     "id": "6657738/GNRUMI3N",
     "title": "Closed Form Solution for Time-dependent Enzyme Kinetics - ScienceDirect",
     "type": "webpage"
    },
    "6657738/T9S4TIAN": {
     "DOI": "10.1006/jtbi.1997.0425",
     "URL": "http://www.sciencedirect.com/science/article/pii/S0022519397904252",
     "abstract": "Based on the quasi-steady-state approximation, a closed form solution for the total time evolution of the reactant concentrations in the basic enzyme−substrate reaction is reported for the first time. Such a solution is given in terms of theomega function, which satisfies the transcendental equationW(x)exp(W(x))=x], and enables the generation of the corresponding time derivatives thus fully characterizing the system. The agreement with results obtained from both the inner (fast region) and outer (slow region) solutions of singular perturbation procedures is very good, but an advantage of the present formalism is the analytic representation of the transition where the perturbation methods are shown to be inaccurate.",
     "accessed": {
      "day": 20,
      "month": 3,
      "year": 2019
     },
     "author": [
      {
       "family": "Schnell",
       "given": "S."
      },
      {
       "family": "Mendoza",
       "given": "C."
      }
     ],
     "container-title": "Journal of Theoretical Biology",
     "container-title-short": "Journal of Theoretical Biology",
     "id": "6657738/T9S4TIAN",
     "issue": "2",
     "issued": {
      "day": 21,
      "month": 7,
      "year": 1997
     },
     "journalAbbreviation": "Journal of Theoretical Biology",
     "page": "207-212",
     "page-first": "207",
     "title": "Closed Form Solution for Time-dependent Enzyme Kinetics",
     "type": "article-journal",
     "volume": "187"
    }
   }
  },
  "kernelspec": {
   "display_name": "Python 3",
   "language": "python",
   "name": "python3"
  },
  "language_info": {
   "codemirror_mode": {
    "name": "ipython",
    "version": 3
   },
   "file_extension": ".py",
   "mimetype": "text/x-python",
   "name": "python",
   "nbconvert_exporter": "python",
   "pygments_lexer": "ipython3",
   "version": "3.6.5"
  },
  "latex_envs": {
   "LaTeX_envs_menu_present": true,
   "autoclose": true,
   "autocomplete": true,
   "bibliofile": "biblio.bib",
   "cite_by": "apalike",
   "current_citInitial": 1,
   "eqLabelWithNumbers": true,
   "eqNumInitial": 1,
   "hotkeys": {
    "equation": "Ctrl-E",
    "itemize": "Ctrl-I"
   },
   "labels_anchors": false,
   "latex_user_defs": false,
   "report_style_numbering": false,
   "user_envs_cfg": false
  },
  "varInspector": {
   "cols": {
    "lenName": 16,
    "lenType": 16,
    "lenVar": 40
   },
   "kernels_config": {
    "python": {
     "delete_cmd_postfix": "",
     "delete_cmd_prefix": "del ",
     "library": "var_list.py",
     "varRefreshCmd": "print(var_dic_list())"
    },
    "r": {
     "delete_cmd_postfix": ") ",
     "delete_cmd_prefix": "rm(",
     "library": "var_list.r",
     "varRefreshCmd": "cat(var_dic_list()) "
    }
   },
   "types_to_exclude": [
    "module",
    "function",
    "builtin_function_or_method",
    "instance",
    "_Feature"
   ],
   "window_display": false
  }
 },
 "nbformat": 4,
 "nbformat_minor": 2
}
