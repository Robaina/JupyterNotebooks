{
 "cells": [
  {
   "cell_type": "markdown",
   "metadata": {},
   "source": [
    "# Cyclotomic polynomials\n",
    "We investigate [cyclotomic polynomials](https://en.wikipedia.org/wiki/Cyclotomic_polynomial):\n",
    "\n",
    "$$x^n - 1 = 0$$\n",
    "\n",
    "which have complex roots on the unit circle, with the general formula:\n",
    "\n",
    "$$\\zeta(k) = \\cos{\\left(\\frac{2\\pi k}{n}\\right)} + i \\sin{\\left(\\frac{2\\pi k}{n}\\right)}, \\;k \\in \\{0, \\dots, n - 1\\}$$"
   ]
  },
  {
   "cell_type": "code",
   "execution_count": 1,
   "metadata": {},
   "outputs": [
    {
     "data": {
      "application/vnd.jupyter.widget-view+json": {
       "model_id": "4e912e1f723745009c90a18824677d46",
       "version_major": 2,
       "version_minor": 0
      },
      "text/plain": [
       "interactive(children=(IntSlider(value=5, description='n', max=17, min=1), Output()), _dom_classes=('widget-int…"
      ]
     },
     "metadata": {},
     "output_type": "display_data"
    }
   ],
   "source": [
    "import sympy as sp\n",
    "import numpy as np\n",
    "import matplotlib.pyplot as plt\n",
    "%matplotlib inline\n",
    "from ipywidgets import interact, IntSlider\n",
    "sp.init_printing()\n",
    "\n",
    "def connectpoints(x, y, p1, p2):\n",
    "    x1, x2 = x[p1], x[p2]\n",
    "    y1, y2 = y[p1], y[p2]\n",
    "    plt.plot([x1,x2], [y1,y2], color='b')\n",
    "    \n",
    "def findUnityRoot(n, k):\n",
    "    return [np.cos(2*np.pi*k / n), np.sin(2*np.pi*k / n)]\n",
    "\n",
    "def plot_funct(n):\n",
    "    # Solve equation\n",
    "    x = sp.var('x')\n",
    "    roots = sp.solve(x**n - 1, x)\n",
    "\n",
    "    real, imag = [], []\n",
    "    for k in range(n):\n",
    "        r, i = findUnityRoot(n, k)\n",
    "        real.append(r)\n",
    "        imag.append(i)\n",
    "\n",
    "    # Plot figure\n",
    "    fig = plt.figure(figsize=(10, 10))\n",
    "    ax = fig.gca()\n",
    "    circle = plt.Circle((0, 0), 1, color='k', fill=False, clip_on=False)\n",
    "    ax.set_xlim((-1.1, 1.1))\n",
    "    ax.set_ylim((-1.1, 1.1))\n",
    "    ax.add_artist(circle)\n",
    "    plt.scatter(real, imag, color='b')\n",
    "    plt.hlines(0, -1, 1)\n",
    "    plt.vlines(0, -1, 1)\n",
    "    connectpoints(real, imag, 0, n - 1)\n",
    "    plt.text(real[0]+0.01, imag[0], '$\\zeta(' + str(0) + ')$')\n",
    "    for p in range(len(real) - 1):\n",
    "        connectpoints(real, imag, p, p + 1)\n",
    "        plt.text(real[p+1], imag[p+1]+0.05, '$\\zeta(' + str(p+1) + ')$')\n",
    "    plt.title('Roots of $x^' + str(n) + '-1 = 0$\\n', fontsize=18)\n",
    "    plt.xlabel('real', fontsize=14)\n",
    "    plt.ylabel('imaginary', fontsize=14)\n",
    "    return roots\n",
    "\n",
    "interact(plot_funct, n=IntSlider(min=1, max=17, step=1, value=5))\n",
    "plt.show()"
   ]
  }
 ],
 "metadata": {
  "kernelspec": {
   "display_name": "Python 3",
   "language": "python",
   "name": "python3"
  },
  "language_info": {
   "codemirror_mode": {
    "name": "ipython",
    "version": 3
   },
   "file_extension": ".py",
   "mimetype": "text/x-python",
   "name": "python",
   "nbconvert_exporter": "python",
   "pygments_lexer": "ipython3",
   "version": "3.6.5"
  }
 },
 "nbformat": 4,
 "nbformat_minor": 2
}
